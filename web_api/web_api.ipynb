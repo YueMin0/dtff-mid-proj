{
 "cells": [
  {
   "cell_type": "markdown",
   "metadata": {
    "pycharm": {
     "name": "#%%\n"
    }
   },
   "source": [
    "# Exercise for web api"
   ]
  },
  {
   "cell_type": "code",
   "execution_count": 1,
   "metadata": {},
   "outputs": [],
   "source": [
    "import requests\n",
    "import datetime\n",
    "import json\n",
    "import pandas as pd"
   ]
  },
  {
   "cell_type": "markdown",
   "metadata": {},
   "source": [
    "## 0. Function for formatting request URL"
   ]
  },
  {
   "cell_type": "code",
   "execution_count": 2,
   "metadata": {},
   "outputs": [],
   "source": [
    "def format_reqt_URL(root_url, endpoint, dict_params):\n",
    "    params = \"\"\n",
    "    for key, value in dict_params.items():\n",
    "        params += f\"{key}={value}&\"\n",
    "        \n",
    "    return f\"{root_url}/{endpoint}?{params}\"\n",
    "    "
   ]
  },
  {
   "cell_type": "markdown",
   "metadata": {
    "pycharm": {
     "name": "#%%\n"
    }
   },
   "source": [
    "## 1. Binance API"
   ]
  },
  {
   "cell_type": "markdown",
   "metadata": {},
   "source": [
    "### (a) The root URL is https://api.binance.com"
   ]
  },
  {
   "cell_type": "code",
   "execution_count": 3,
   "metadata": {},
   "outputs": [],
   "source": [
    "root_url_binance = \"https://api.binance.com\""
   ]
  },
  {
   "cell_type": "markdown",
   "metadata": {},
   "source": [
    "### (b) The endpoint to retrieve klines is api/v3/klines"
   ]
  },
  {
   "cell_type": "code",
   "execution_count": 4,
   "metadata": {},
   "outputs": [],
   "source": [
    "endpoint_binance = \"api/v3/klines\""
   ]
  },
  {
   "cell_type": "markdown",
   "metadata": {},
   "source": [
    "### (c) Retrieve 75 daily observations of klines data for BTCUSDT"
   ]
  },
  {
   "cell_type": "code",
   "execution_count": 5,
   "metadata": {},
   "outputs": [
    {
     "name": "stdout",
     "output_type": "stream",
     "text": [
      "1623715200000\n"
     ]
    }
   ],
   "source": [
    "start_day = int((datetime.datetime(2021,6,15)- datetime.datetime(1970,1,1)).total_seconds())*1000\n",
    "print(start_day)"
   ]
  },
  {
   "cell_type": "code",
   "execution_count": 6,
   "metadata": {},
   "outputs": [
    {
     "name": "stdout",
     "output_type": "stream",
     "text": [
      "https://api.binance.com/api/v3/klines?symbol=BTCUSDT&interval=1d&startTime=1623715200000&limit=75&\n"
     ]
    }
   ],
   "source": [
    "kline_reqt = format_reqt_URL(\n",
    "    root_url = root_url_binance,\n",
    "    endpoint = endpoint_binance,\n",
    "    dict_params = {\n",
    "        \"symbol\": \"BTCUSDT\",\n",
    "        \"interval\": \"1d\",\n",
    "        \"startTime\": start_day,\n",
    "        \"limit\": 75,\n",
    "    },\n",
    ")\n",
    "\n",
    "print(kline_reqt)"
   ]
  },
  {
   "cell_type": "code",
   "execution_count": 7,
   "metadata": {},
   "outputs": [],
   "source": [
    "kline_resp = requests.get(kline_reqt)\n",
    "kline_df = pd.DataFrame.from_records(kline_resp.json())[[1,2,3,4]]\n",
    "kline_df = kline_df.rename(columns={1: \"Open\", 2: \"High\", 3: \"Low\", 4: \"Close\"})"
   ]
  },
  {
   "cell_type": "code",
   "execution_count": 8,
   "metadata": {},
   "outputs": [
    {
     "data": {
      "text/html": [
       "<div>\n",
       "<style scoped>\n",
       "    .dataframe tbody tr th:only-of-type {\n",
       "        vertical-align: middle;\n",
       "    }\n",
       "\n",
       "    .dataframe tbody tr th {\n",
       "        vertical-align: top;\n",
       "    }\n",
       "\n",
       "    .dataframe thead th {\n",
       "        text-align: right;\n",
       "    }\n",
       "</style>\n",
       "<table border=\"1\" class=\"dataframe\">\n",
       "  <thead>\n",
       "    <tr style=\"text-align: right;\">\n",
       "      <th></th>\n",
       "      <th>Open</th>\n",
       "      <th>High</th>\n",
       "      <th>Low</th>\n",
       "      <th>Close</th>\n",
       "    </tr>\n",
       "  </thead>\n",
       "  <tbody>\n",
       "    <tr>\n",
       "      <th>0</th>\n",
       "      <td>40516.28000000</td>\n",
       "      <td>41330.00000000</td>\n",
       "      <td>39506.40000000</td>\n",
       "      <td>40144.04000000</td>\n",
       "    </tr>\n",
       "    <tr>\n",
       "      <th>1</th>\n",
       "      <td>40143.80000000</td>\n",
       "      <td>40527.14000000</td>\n",
       "      <td>38116.01000000</td>\n",
       "      <td>38349.01000000</td>\n",
       "    </tr>\n",
       "    <tr>\n",
       "      <th>2</th>\n",
       "      <td>38349.00000000</td>\n",
       "      <td>39559.88000000</td>\n",
       "      <td>37365.00000000</td>\n",
       "      <td>38092.97000000</td>\n",
       "    </tr>\n",
       "    <tr>\n",
       "      <th>3</th>\n",
       "      <td>38092.97000000</td>\n",
       "      <td>38202.84000000</td>\n",
       "      <td>35129.29000000</td>\n",
       "      <td>35819.84000000</td>\n",
       "    </tr>\n",
       "    <tr>\n",
       "      <th>4</th>\n",
       "      <td>35820.48000000</td>\n",
       "      <td>36457.00000000</td>\n",
       "      <td>34803.52000000</td>\n",
       "      <td>35483.72000000</td>\n",
       "    </tr>\n",
       "    <tr>\n",
       "      <th>...</th>\n",
       "      <td>...</td>\n",
       "      <td>...</td>\n",
       "      <td>...</td>\n",
       "      <td>...</td>\n",
       "    </tr>\n",
       "    <tr>\n",
       "      <th>70</th>\n",
       "      <td>49488.85000000</td>\n",
       "      <td>49860.00000000</td>\n",
       "      <td>47600.00000000</td>\n",
       "      <td>47674.01000000</td>\n",
       "    </tr>\n",
       "    <tr>\n",
       "      <th>71</th>\n",
       "      <td>47674.01000000</td>\n",
       "      <td>49264.30000000</td>\n",
       "      <td>47126.28000000</td>\n",
       "      <td>48973.32000000</td>\n",
       "    </tr>\n",
       "    <tr>\n",
       "      <th>72</th>\n",
       "      <td>48973.32000000</td>\n",
       "      <td>49352.84000000</td>\n",
       "      <td>46250.00000000</td>\n",
       "      <td>46843.87000000</td>\n",
       "    </tr>\n",
       "    <tr>\n",
       "      <th>73</th>\n",
       "      <td>46843.86000000</td>\n",
       "      <td>49149.93000000</td>\n",
       "      <td>46348.00000000</td>\n",
       "      <td>49069.90000000</td>\n",
       "    </tr>\n",
       "    <tr>\n",
       "      <th>74</th>\n",
       "      <td>49069.90000000</td>\n",
       "      <td>49299.00000000</td>\n",
       "      <td>48346.88000000</td>\n",
       "      <td>48895.35000000</td>\n",
       "    </tr>\n",
       "  </tbody>\n",
       "</table>\n",
       "<p>75 rows × 4 columns</p>\n",
       "</div>"
      ],
      "text/plain": [
       "              Open            High             Low           Close\n",
       "0   40516.28000000  41330.00000000  39506.40000000  40144.04000000\n",
       "1   40143.80000000  40527.14000000  38116.01000000  38349.01000000\n",
       "2   38349.00000000  39559.88000000  37365.00000000  38092.97000000\n",
       "3   38092.97000000  38202.84000000  35129.29000000  35819.84000000\n",
       "4   35820.48000000  36457.00000000  34803.52000000  35483.72000000\n",
       "..             ...             ...             ...             ...\n",
       "70  49488.85000000  49860.00000000  47600.00000000  47674.01000000\n",
       "71  47674.01000000  49264.30000000  47126.28000000  48973.32000000\n",
       "72  48973.32000000  49352.84000000  46250.00000000  46843.87000000\n",
       "73  46843.86000000  49149.93000000  46348.00000000  49069.90000000\n",
       "74  49069.90000000  49299.00000000  48346.88000000  48895.35000000\n",
       "\n",
       "[75 rows x 4 columns]"
      ]
     },
     "execution_count": 8,
     "metadata": {},
     "output_type": "execute_result"
    }
   ],
   "source": [
    "kline_df "
   ]
  },
  {
   "cell_type": "markdown",
   "metadata": {},
   "source": [
    "### (d) Function that retrieves 75 daily observations of klines data"
   ]
  },
  {
   "cell_type": "code",
   "execution_count": 9,
   "metadata": {},
   "outputs": [],
   "source": [
    "def kline75(pair, start_year, start_month, start_day):\n",
    "    start_date_sec = int((datetime.datetime(start_year, start_month, start_day)- datetime.datetime(1970,1,1)).total_seconds())*1000\n",
    "    reqt = format_reqt_URL(root_url_binance, \"api/v3/klines\", {\"symbol\": pair, \"interval\": \"1d\", \"startTime\": start_date_sec, \"limit\": 75})\n",
    "    resp = requests.get(reqt)\n",
    "    kline75_df = pd.DataFrame.from_records(resp.json())[[1,2,3,4]]\n",
    "    kline75_df = kline75_df.rename(columns={1: \"Open\", 2: \"High\", 3: \"Low\", 4: \"Close\"})\n",
    "    return kline75_df"
   ]
  },
  {
   "cell_type": "code",
   "execution_count": 10,
   "metadata": {},
   "outputs": [
    {
     "data": {
      "text/html": [
       "<div>\n",
       "<style scoped>\n",
       "    .dataframe tbody tr th:only-of-type {\n",
       "        vertical-align: middle;\n",
       "    }\n",
       "\n",
       "    .dataframe tbody tr th {\n",
       "        vertical-align: top;\n",
       "    }\n",
       "\n",
       "    .dataframe thead th {\n",
       "        text-align: right;\n",
       "    }\n",
       "</style>\n",
       "<table border=\"1\" class=\"dataframe\">\n",
       "  <thead>\n",
       "    <tr style=\"text-align: right;\">\n",
       "      <th></th>\n",
       "      <th>Open</th>\n",
       "      <th>High</th>\n",
       "      <th>Low</th>\n",
       "      <th>Close</th>\n",
       "    </tr>\n",
       "  </thead>\n",
       "  <tbody>\n",
       "    <tr>\n",
       "      <th>0</th>\n",
       "      <td>40516.28000000</td>\n",
       "      <td>41330.00000000</td>\n",
       "      <td>39506.40000000</td>\n",
       "      <td>40144.04000000</td>\n",
       "    </tr>\n",
       "    <tr>\n",
       "      <th>1</th>\n",
       "      <td>40143.80000000</td>\n",
       "      <td>40527.14000000</td>\n",
       "      <td>38116.01000000</td>\n",
       "      <td>38349.01000000</td>\n",
       "    </tr>\n",
       "    <tr>\n",
       "      <th>2</th>\n",
       "      <td>38349.00000000</td>\n",
       "      <td>39559.88000000</td>\n",
       "      <td>37365.00000000</td>\n",
       "      <td>38092.97000000</td>\n",
       "    </tr>\n",
       "    <tr>\n",
       "      <th>3</th>\n",
       "      <td>38092.97000000</td>\n",
       "      <td>38202.84000000</td>\n",
       "      <td>35129.29000000</td>\n",
       "      <td>35819.84000000</td>\n",
       "    </tr>\n",
       "    <tr>\n",
       "      <th>4</th>\n",
       "      <td>35820.48000000</td>\n",
       "      <td>36457.00000000</td>\n",
       "      <td>34803.52000000</td>\n",
       "      <td>35483.72000000</td>\n",
       "    </tr>\n",
       "    <tr>\n",
       "      <th>...</th>\n",
       "      <td>...</td>\n",
       "      <td>...</td>\n",
       "      <td>...</td>\n",
       "      <td>...</td>\n",
       "    </tr>\n",
       "    <tr>\n",
       "      <th>70</th>\n",
       "      <td>49488.85000000</td>\n",
       "      <td>49860.00000000</td>\n",
       "      <td>47600.00000000</td>\n",
       "      <td>47674.01000000</td>\n",
       "    </tr>\n",
       "    <tr>\n",
       "      <th>71</th>\n",
       "      <td>47674.01000000</td>\n",
       "      <td>49264.30000000</td>\n",
       "      <td>47126.28000000</td>\n",
       "      <td>48973.32000000</td>\n",
       "    </tr>\n",
       "    <tr>\n",
       "      <th>72</th>\n",
       "      <td>48973.32000000</td>\n",
       "      <td>49352.84000000</td>\n",
       "      <td>46250.00000000</td>\n",
       "      <td>46843.87000000</td>\n",
       "    </tr>\n",
       "    <tr>\n",
       "      <th>73</th>\n",
       "      <td>46843.86000000</td>\n",
       "      <td>49149.93000000</td>\n",
       "      <td>46348.00000000</td>\n",
       "      <td>49069.90000000</td>\n",
       "    </tr>\n",
       "    <tr>\n",
       "      <th>74</th>\n",
       "      <td>49069.90000000</td>\n",
       "      <td>49299.00000000</td>\n",
       "      <td>48346.88000000</td>\n",
       "      <td>48895.35000000</td>\n",
       "    </tr>\n",
       "  </tbody>\n",
       "</table>\n",
       "<p>75 rows × 4 columns</p>\n",
       "</div>"
      ],
      "text/plain": [
       "              Open            High             Low           Close\n",
       "0   40516.28000000  41330.00000000  39506.40000000  40144.04000000\n",
       "1   40143.80000000  40527.14000000  38116.01000000  38349.01000000\n",
       "2   38349.00000000  39559.88000000  37365.00000000  38092.97000000\n",
       "3   38092.97000000  38202.84000000  35129.29000000  35819.84000000\n",
       "4   35820.48000000  36457.00000000  34803.52000000  35483.72000000\n",
       "..             ...             ...             ...             ...\n",
       "70  49488.85000000  49860.00000000  47600.00000000  47674.01000000\n",
       "71  47674.01000000  49264.30000000  47126.28000000  48973.32000000\n",
       "72  48973.32000000  49352.84000000  46250.00000000  46843.87000000\n",
       "73  46843.86000000  49149.93000000  46348.00000000  49069.90000000\n",
       "74  49069.90000000  49299.00000000  48346.88000000  48895.35000000\n",
       "\n",
       "[75 rows x 4 columns]"
      ]
     },
     "execution_count": 10,
     "metadata": {},
     "output_type": "execute_result"
    }
   ],
   "source": [
    "# verification: same results below with the generic function as in part (c)\n",
    "kline75(\"BTCUSDT\",2021,6,15)"
   ]
  },
  {
   "cell_type": "markdown",
   "metadata": {},
   "source": [
    "## 2. FRED API"
   ]
  },
  {
   "cell_type": "markdown",
   "metadata": {},
   "source": [
    "### (a) API key "
   ]
  },
  {
   "cell_type": "code",
   "execution_count": 17,
   "metadata": {},
   "outputs": [],
   "source": [
    "api_key_fake = \"abc123\"\n",
    "# the real api_key is not included in this uploaded file"
   ]
  },
  {
   "cell_type": "markdown",
   "metadata": {},
   "source": [
    "### (b) The root URL is  https://api.stlouisfed.org"
   ]
  },
  {
   "cell_type": "code",
   "execution_count": 12,
   "metadata": {},
   "outputs": [],
   "source": [
    "root_url_fred = \"https://api.stlouisfed.org\""
   ]
  },
  {
   "cell_type": "markdown",
   "metadata": {},
   "source": [
    "### (c) The endpoint to retrieve time series observations is fred/series/observations"
   ]
  },
  {
   "cell_type": "code",
   "execution_count": 13,
   "metadata": {},
   "outputs": [],
   "source": [
    "endpoint_fred = \"fred/series/observations\""
   ]
  },
  {
   "cell_type": "markdown",
   "metadata": {},
   "source": [
    "### (d) "
   ]
  },
  {
   "cell_type": "code",
   "execution_count": 18,
   "metadata": {},
   "outputs": [
    {
     "name": "stdout",
     "output_type": "stream",
     "text": [
      "https://api.stlouisfed.org/fred/series/observations?api_key=abc123&file_type=json&series_id=UNRATE&observation_start=2020-01-01&\n"
     ]
    }
   ],
   "source": [
    "unrate_reqt = format_reqt_URL(\n",
    "    root_url = root_url_fred,\n",
    "    endpoint = endpoint_fred,\n",
    "    dict_params = {\n",
    "        \"api_key\": api_key_fake,\n",
    "        \"file_type\": \"json\",\n",
    "        \"series_id\": \"UNRATE\",\n",
    "        \"observation_start\": \"2020-01-01\",\n",
    "    },\n",
    ")\n",
    "print(unrate_reqt)"
   ]
  },
  {
   "cell_type": "markdown",
   "metadata": {},
   "source": [
    "#### Note: An authentic API key is needed for below cells:"
   ]
  },
  {
   "cell_type": "code",
   "execution_count": 15,
   "metadata": {},
   "outputs": [],
   "source": [
    "unrate_resp = requests.get(unrate_reqt)\n",
    "unrate_df = pd.DataFrame.from_records(unrate_resp.json()[\"observations\"])"
   ]
  },
  {
   "cell_type": "code",
   "execution_count": 16,
   "metadata": {},
   "outputs": [
    {
     "data": {
      "text/html": [
       "<div>\n",
       "<style scoped>\n",
       "    .dataframe tbody tr th:only-of-type {\n",
       "        vertical-align: middle;\n",
       "    }\n",
       "\n",
       "    .dataframe tbody tr th {\n",
       "        vertical-align: top;\n",
       "    }\n",
       "\n",
       "    .dataframe thead th {\n",
       "        text-align: right;\n",
       "    }\n",
       "</style>\n",
       "<table border=\"1\" class=\"dataframe\">\n",
       "  <thead>\n",
       "    <tr style=\"text-align: right;\">\n",
       "      <th></th>\n",
       "      <th>realtime_start</th>\n",
       "      <th>realtime_end</th>\n",
       "      <th>date</th>\n",
       "      <th>value</th>\n",
       "    </tr>\n",
       "  </thead>\n",
       "  <tbody>\n",
       "    <tr>\n",
       "      <th>0</th>\n",
       "      <td>2021-11-07</td>\n",
       "      <td>2021-11-07</td>\n",
       "      <td>2020-01-01</td>\n",
       "      <td>3.5</td>\n",
       "    </tr>\n",
       "    <tr>\n",
       "      <th>1</th>\n",
       "      <td>2021-11-07</td>\n",
       "      <td>2021-11-07</td>\n",
       "      <td>2020-02-01</td>\n",
       "      <td>3.5</td>\n",
       "    </tr>\n",
       "    <tr>\n",
       "      <th>2</th>\n",
       "      <td>2021-11-07</td>\n",
       "      <td>2021-11-07</td>\n",
       "      <td>2020-03-01</td>\n",
       "      <td>4.4</td>\n",
       "    </tr>\n",
       "    <tr>\n",
       "      <th>3</th>\n",
       "      <td>2021-11-07</td>\n",
       "      <td>2021-11-07</td>\n",
       "      <td>2020-04-01</td>\n",
       "      <td>14.8</td>\n",
       "    </tr>\n",
       "    <tr>\n",
       "      <th>4</th>\n",
       "      <td>2021-11-07</td>\n",
       "      <td>2021-11-07</td>\n",
       "      <td>2020-05-01</td>\n",
       "      <td>13.3</td>\n",
       "    </tr>\n",
       "    <tr>\n",
       "      <th>5</th>\n",
       "      <td>2021-11-07</td>\n",
       "      <td>2021-11-07</td>\n",
       "      <td>2020-06-01</td>\n",
       "      <td>11.1</td>\n",
       "    </tr>\n",
       "    <tr>\n",
       "      <th>6</th>\n",
       "      <td>2021-11-07</td>\n",
       "      <td>2021-11-07</td>\n",
       "      <td>2020-07-01</td>\n",
       "      <td>10.2</td>\n",
       "    </tr>\n",
       "    <tr>\n",
       "      <th>7</th>\n",
       "      <td>2021-11-07</td>\n",
       "      <td>2021-11-07</td>\n",
       "      <td>2020-08-01</td>\n",
       "      <td>8.4</td>\n",
       "    </tr>\n",
       "    <tr>\n",
       "      <th>8</th>\n",
       "      <td>2021-11-07</td>\n",
       "      <td>2021-11-07</td>\n",
       "      <td>2020-09-01</td>\n",
       "      <td>7.8</td>\n",
       "    </tr>\n",
       "    <tr>\n",
       "      <th>9</th>\n",
       "      <td>2021-11-07</td>\n",
       "      <td>2021-11-07</td>\n",
       "      <td>2020-10-01</td>\n",
       "      <td>6.9</td>\n",
       "    </tr>\n",
       "    <tr>\n",
       "      <th>10</th>\n",
       "      <td>2021-11-07</td>\n",
       "      <td>2021-11-07</td>\n",
       "      <td>2020-11-01</td>\n",
       "      <td>6.7</td>\n",
       "    </tr>\n",
       "    <tr>\n",
       "      <th>11</th>\n",
       "      <td>2021-11-07</td>\n",
       "      <td>2021-11-07</td>\n",
       "      <td>2020-12-01</td>\n",
       "      <td>6.7</td>\n",
       "    </tr>\n",
       "    <tr>\n",
       "      <th>12</th>\n",
       "      <td>2021-11-07</td>\n",
       "      <td>2021-11-07</td>\n",
       "      <td>2021-01-01</td>\n",
       "      <td>6.3</td>\n",
       "    </tr>\n",
       "    <tr>\n",
       "      <th>13</th>\n",
       "      <td>2021-11-07</td>\n",
       "      <td>2021-11-07</td>\n",
       "      <td>2021-02-01</td>\n",
       "      <td>6.2</td>\n",
       "    </tr>\n",
       "    <tr>\n",
       "      <th>14</th>\n",
       "      <td>2021-11-07</td>\n",
       "      <td>2021-11-07</td>\n",
       "      <td>2021-03-01</td>\n",
       "      <td>6.0</td>\n",
       "    </tr>\n",
       "    <tr>\n",
       "      <th>15</th>\n",
       "      <td>2021-11-07</td>\n",
       "      <td>2021-11-07</td>\n",
       "      <td>2021-04-01</td>\n",
       "      <td>6.1</td>\n",
       "    </tr>\n",
       "    <tr>\n",
       "      <th>16</th>\n",
       "      <td>2021-11-07</td>\n",
       "      <td>2021-11-07</td>\n",
       "      <td>2021-05-01</td>\n",
       "      <td>5.8</td>\n",
       "    </tr>\n",
       "    <tr>\n",
       "      <th>17</th>\n",
       "      <td>2021-11-07</td>\n",
       "      <td>2021-11-07</td>\n",
       "      <td>2021-06-01</td>\n",
       "      <td>5.9</td>\n",
       "    </tr>\n",
       "    <tr>\n",
       "      <th>18</th>\n",
       "      <td>2021-11-07</td>\n",
       "      <td>2021-11-07</td>\n",
       "      <td>2021-07-01</td>\n",
       "      <td>5.4</td>\n",
       "    </tr>\n",
       "    <tr>\n",
       "      <th>19</th>\n",
       "      <td>2021-11-07</td>\n",
       "      <td>2021-11-07</td>\n",
       "      <td>2021-08-01</td>\n",
       "      <td>5.2</td>\n",
       "    </tr>\n",
       "    <tr>\n",
       "      <th>20</th>\n",
       "      <td>2021-11-07</td>\n",
       "      <td>2021-11-07</td>\n",
       "      <td>2021-09-01</td>\n",
       "      <td>4.8</td>\n",
       "    </tr>\n",
       "    <tr>\n",
       "      <th>21</th>\n",
       "      <td>2021-11-07</td>\n",
       "      <td>2021-11-07</td>\n",
       "      <td>2021-10-01</td>\n",
       "      <td>4.6</td>\n",
       "    </tr>\n",
       "  </tbody>\n",
       "</table>\n",
       "</div>"
      ],
      "text/plain": [
       "   realtime_start realtime_end        date value\n",
       "0      2021-11-07   2021-11-07  2020-01-01   3.5\n",
       "1      2021-11-07   2021-11-07  2020-02-01   3.5\n",
       "2      2021-11-07   2021-11-07  2020-03-01   4.4\n",
       "3      2021-11-07   2021-11-07  2020-04-01  14.8\n",
       "4      2021-11-07   2021-11-07  2020-05-01  13.3\n",
       "5      2021-11-07   2021-11-07  2020-06-01  11.1\n",
       "6      2021-11-07   2021-11-07  2020-07-01  10.2\n",
       "7      2021-11-07   2021-11-07  2020-08-01   8.4\n",
       "8      2021-11-07   2021-11-07  2020-09-01   7.8\n",
       "9      2021-11-07   2021-11-07  2020-10-01   6.9\n",
       "10     2021-11-07   2021-11-07  2020-11-01   6.7\n",
       "11     2021-11-07   2021-11-07  2020-12-01   6.7\n",
       "12     2021-11-07   2021-11-07  2021-01-01   6.3\n",
       "13     2021-11-07   2021-11-07  2021-02-01   6.2\n",
       "14     2021-11-07   2021-11-07  2021-03-01   6.0\n",
       "15     2021-11-07   2021-11-07  2021-04-01   6.1\n",
       "16     2021-11-07   2021-11-07  2021-05-01   5.8\n",
       "17     2021-11-07   2021-11-07  2021-06-01   5.9\n",
       "18     2021-11-07   2021-11-07  2021-07-01   5.4\n",
       "19     2021-11-07   2021-11-07  2021-08-01   5.2\n",
       "20     2021-11-07   2021-11-07  2021-09-01   4.8\n",
       "21     2021-11-07   2021-11-07  2021-10-01   4.6"
      ]
     },
     "execution_count": 16,
     "metadata": {},
     "output_type": "execute_result"
    }
   ],
   "source": [
    "unrate_df"
   ]
  }
 ],
 "metadata": {
  "kernelspec": {
   "display_name": "Python 3 (ipykernel)",
   "language": "python",
   "name": "python3"
  },
  "language_info": {
   "codemirror_mode": {
    "name": "ipython",
    "version": 3
   },
   "file_extension": ".py",
   "mimetype": "text/x-python",
   "name": "python",
   "nbconvert_exporter": "python",
   "pygments_lexer": "ipython3",
   "version": "3.7.3"
  }
 },
 "nbformat": 4,
 "nbformat_minor": 1
}
